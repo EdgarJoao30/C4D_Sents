{
 "cells": [
  {
   "cell_type": "code",
   "execution_count": 1,
   "metadata": {},
   "outputs": [],
   "source": [
    "import geemap\n",
    "import ee\n",
    "ee.Initialize()"
   ]
  },
  {
   "cell_type": "code",
   "execution_count": 10,
   "metadata": {},
   "outputs": [],
   "source": [
    "img = ee.Image(\"users/edgarmanrique30/c4d_s1s2Stack_10m_1M_3857_2021_20220710\")\n",
    "\n",
    "imgVisParams = {'bands': [\"NDVI_5\", \"NDVI_3\", \"NDVI_1\"], 'min': 1000, 'max': 7000, 'opacity': 1}\n",
    "\n",
    "left_layer = geemap.ee_tile_layer(img, imgVisParams, name='ndvi stack')\n",
    "\n",
    "imgVisParams['bands'] = [\"VV_5\", \"VV_3\", \"VV_1\"]\n",
    "\n",
    "right_layer = geemap.ee_tile_layer(img, imgVisParams, name='ndvi stack')"
   ]
  },
  {
   "cell_type": "code",
   "execution_count": 11,
   "metadata": {},
   "outputs": [
    {
     "data": {
      "application/vnd.jupyter.widget-view+json": {
       "model_id": "711565e55e084b2d9201567a09f4189e",
       "version_major": 2,
       "version_minor": 0
      },
      "text/plain": [
       "Map(center=[50.1059, 11.8687], controls=(ZoomControl(options=['position', 'zoom_in_text', 'zoom_in_title', 'zo…"
      ]
     },
     "metadata": {},
     "output_type": "display_data"
    }
   ],
   "source": [
    "m = geemap.Map(center=[50.1059, 11.8687], zoom=12)\n",
    "m.split_map(left_layer, right_layer)\n",
    "m"
   ]
  }
 ],
 "metadata": {
  "kernelspec": {
   "display_name": "Python 3.9.11 ('geo')",
   "language": "python",
   "name": "python3"
  },
  "language_info": {
   "codemirror_mode": {
    "name": "ipython",
    "version": 3
   },
   "file_extension": ".py",
   "mimetype": "text/x-python",
   "name": "python",
   "nbconvert_exporter": "python",
   "pygments_lexer": "ipython3",
   "version": "3.9.11"
  },
  "orig_nbformat": 4,
  "vscode": {
   "interpreter": {
    "hash": "2fe9fbac78b9ea2727a57da7bba5d68f92b5c7f76edf2575dd071833052fbdf5"
   }
  }
 },
 "nbformat": 4,
 "nbformat_minor": 2
}
